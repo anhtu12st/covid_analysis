{
 "cells": [
  {
   "cell_type": "code",
   "execution_count": null,
   "id": "a6db656b",
   "metadata": {},
   "outputs": [],
   "source": [
    "import requests\n",
    "import pandas as pd\n",
    "from matplotlib import pyplot as plt\n",
    "from time import sleep"
   ]
  },
  {
   "cell_type": "code",
   "execution_count": null,
   "id": "603a583e",
   "metadata": {},
   "outputs": [],
   "source": [
    "columns = ['active_by_day', 'active_by_time', 'case_by_day', 'case_by_time', 'death_by_day', 'death_by_time', 'recovered_by_day', 'recovered_by_time']\n",
    "for i in range(1,64):\n",
    "    sleep(1)\n",
    "    url = f\"https://covid19.ncsc.gov.vn/api/v3/covid/province/{i}\"\n",
    "\n",
    "    resp = requests.get(url=url)\n",
    "    data = resp.json()\n",
    "    \n",
    "    df = pd.DataFrame()\n",
    "    for k, v in data.items():\n",
    "        if k in columns:\n",
    "            v_df = pd.DataFrame.from_dict(v, orient=\"index\")\n",
    "            v_df.columns = [k]\n",
    "            df = pd.concat([df, v_df], axis=1)\n",
    "    df.index = pd.to_datetime(df.index)\n",
    "    df = df['1/1/2021':'31/3/2022']\n",
    "    df.to_csv(f\"data/{i}.csv\", encoding='utf-8')\n",
    "    print(f\"data/{i}.csv\")\n"
   ]
  },
  {
   "cell_type": "code",
   "execution_count": null,
   "id": "e3bf8a00",
   "metadata": {},
   "outputs": [],
   "source": [
    "url = f\"https://covid19.ncsc.gov.vn/api/v3/covid/national_total\"\n",
    "\n",
    "resp = requests.get(url=url)\n",
    "data = resp.json()\n",
    "\n",
    "df = pd.DataFrame()\n",
    "for k, v in data.items():\n",
    "    if k in columns:\n",
    "        v_df = pd.DataFrame.from_dict(v, orient=\"index\")\n",
    "        v_df.columns = [k]\n",
    "        df = pd.concat([df, v_df], axis=1) \n",
    "df.index = pd.to_datetime(df.index)\n",
    "df = df['1/1/2021':'31/3/2022']\n",
    "df.to_csv(f\"data/all.csv\", encoding='utf-8')\n",
    "print(f\"data/all.csv\")\n"
   ]
  },
  {
   "cell_type": "code",
   "execution_count": null,
   "id": "dfc4640d",
   "metadata": {},
   "outputs": [],
   "source": []
  }
 ],
 "metadata": {
  "kernelspec": {
   "display_name": "Python 3 (ipykernel)",
   "language": "python",
   "name": "python3"
  },
  "language_info": {
   "codemirror_mode": {
    "name": "ipython",
    "version": 3
   },
   "file_extension": ".py",
   "mimetype": "text/x-python",
   "name": "python",
   "nbconvert_exporter": "python",
   "pygments_lexer": "ipython3",
   "version": "3.9.7"
  }
 },
 "nbformat": 4,
 "nbformat_minor": 5
}
